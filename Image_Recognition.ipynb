{
 "cells": [
  {
   "cell_type": "markdown",
   "id": "da42887f-5d0c-4325-805b-cd1af536909b",
   "metadata": {},
   "source": [
    "Details\n",
    "Binary Classification Problem\n",
    "Kaggle Dataset,\n",
    "Process\n",
    "CNN With Small Dataset\n",
    "Data Augmentation\n",
    "Transfer Learning\n"
   ]
  },
  {
   "cell_type": "code",
   "execution_count": 1,
   "id": "2dc034e9-81a0-4840-a92a-92a494f643a1",
   "metadata": {},
   "outputs": [],
   "source": [
    "import pandas as pd\n",
    "import matplotlib as mpl\n",
    "import matplotlib.pyplot as plt\n",
    "import os"
   ]
  },
  {
   "cell_type": "code",
   "execution_count": 2,
   "id": "7a4dcce1-4076-4557-8909-bcbc15f6b0bb",
   "metadata": {},
   "outputs": [
    {
     "name": "stderr",
     "output_type": "stream",
     "text": [
      "2024-08-22 18:42:00.520205: I tensorflow/core/platform/cpu_feature_guard.cc:193] This TensorFlow binary is optimized with oneAPI Deep Neural Network Library (oneDNN) to use the following CPU instructions in performance-critical operations:  SSE4.1 SSE4.2\n",
      "To enable them in other operations, rebuild TensorFlow with the appropriate compiler flags.\n"
     ]
    }
   ],
   "source": [
    "import tensorflow\n",
    "from tensorflow import keras"
   ]
  },
  {
   "cell_type": "markdown",
   "id": "ad8cff78-4ef8-4503-bb0d-b73f5a483601",
   "metadata": {},
   "source": [
    "Loading the Dataset"
   ]
  },
  {
   "cell_type": "code",
   "execution_count": 3,
   "id": "415bc5f4-923d-4267-90c2-2a40af918b31",
   "metadata": {},
   "outputs": [],
   "source": [
    "train_dir = \"/Users/akarshitsingh/Deep Learning/Data set, Presentation and Python Notebook for Image recognition project module/cats_and_dogs/train\"\n",
    "validation_dir = \"/Users/akarshitsingh/Deep Learning/Data set, Presentation and Python Notebook for Image recognition project module/cats_and_dogs/validation\"\n",
    "test_dir = \"/Users/akarshitsingh/Deep Learning/Data set, Presentation and Python Notebook for Image recognition project module/cats_and_dogs/test\""
   ]
  },
  {
   "cell_type": "markdown",
   "id": "2059cdb6-a6c6-43a3-8a74-d0cf749a078f",
   "metadata": {},
   "source": [
    "Data Pre-Processing"
   ]
  },
  {
   "cell_type": "code",
   "execution_count": 4,
   "id": "58ec6d83-9052-41df-8d23-d8b1af38ff4c",
   "metadata": {},
   "outputs": [],
   "source": [
    "from tensorflow.keras.preprocessing.image import ImageDataGenerator"
   ]
  },
  {
   "cell_type": "code",
   "execution_count": 5,
   "id": "4974ea8d-6eeb-496b-865b-2afc7c5007c6",
   "metadata": {},
   "outputs": [
    {
     "name": "stdout",
     "output_type": "stream",
     "text": [
      "Found 2000 images belonging to 2 classes.\n",
      "Found 1000 images belonging to 2 classes.\n"
     ]
    }
   ],
   "source": [
    "train_datagen = ImageDataGenerator(rescale = 1./255)\n",
    "test_datagen = ImageDataGenerator(rescale = 1./255)\n",
    "\n",
    "train_generator = train_datagen.flow_from_directory(train_dir,\n",
    "                                                   target_size = (150, 150),\n",
    "                                                   batch_size = 20,\n",
    "                                                   class_mode = 'binary')\n",
    "\n",
    "validation_generator = test_datagen.flow_from_directory(validation_dir,\n",
    "                                                       target_size = (150, 150),\n",
    "                                                       batch_size = 20,\n",
    "                                                       class_mode = 'binary')"
   ]
  },
  {
   "cell_type": "markdown",
   "id": "803fb002-470b-489f-b8e5-1ae642b85ff8",
   "metadata": {},
   "source": [
    "Training the model"
   ]
  },
  {
   "cell_type": "code",
   "execution_count": 6,
   "id": "2fea63e4-4d70-434d-89ed-3df8e81a7880",
   "metadata": {},
   "outputs": [],
   "source": [
    "from tensorflow.keras import layers\n",
    "from tensorflow.keras import models"
   ]
  },
  {
   "cell_type": "code",
   "execution_count": 7,
   "id": "58dbcf13-0b90-46c7-be80-06d508e73131",
   "metadata": {},
   "outputs": [
    {
     "name": "stderr",
     "output_type": "stream",
     "text": [
      "2024-08-22 18:42:02.902891: I tensorflow/core/platform/cpu_feature_guard.cc:193] This TensorFlow binary is optimized with oneAPI Deep Neural Network Library (oneDNN) to use the following CPU instructions in performance-critical operations:  SSE4.1 SSE4.2\n",
      "To enable them in other operations, rebuild TensorFlow with the appropriate compiler flags.\n"
     ]
    }
   ],
   "source": [
    "model = models.Sequential()\n",
    "model.add(layers.Conv2D(32, (3,3), activation = 'relu', input_shape = (150, 150, 3)))\n",
    "model.add(layers.MaxPooling2D((2, 2)))\n",
    "model.add(layers.Conv2D(64, (3,3), activation = 'relu', input_shape = (150, 150, 3)))\n",
    "model.add(layers.MaxPooling2D((2, 2)))\n",
    "model.add(layers.Conv2D(128, (3,3), activation = 'relu', input_shape = (150, 150, 3)))\n",
    "model.add(layers.MaxPooling2D((2, 2)))\n",
    "model.add(layers.Conv2D(128, (3,3), activation = 'relu', input_shape = (150, 150, 3)))\n",
    "model.add(layers.MaxPooling2D((2, 2)))\n",
    "model.add(layers.Flatten())\n",
    "model.add(layers.Dense(512, activation = \"relu\"))\n",
    "model.add(layers.Dense(1, activation = \"sigmoid\"))"
   ]
  },
  {
   "cell_type": "code",
   "execution_count": 8,
   "id": "91f339a1-38f3-4cc1-b432-a0d58f7ce4fa",
   "metadata": {},
   "outputs": [
    {
     "name": "stdout",
     "output_type": "stream",
     "text": [
      "Model: \"sequential\"\n",
      "_________________________________________________________________\n",
      " Layer (type)                Output Shape              Param #   \n",
      "=================================================================\n",
      " conv2d (Conv2D)             (None, 148, 148, 32)      896       \n",
      "                                                                 \n",
      " max_pooling2d (MaxPooling2D  (None, 74, 74, 32)       0         \n",
      " )                                                               \n",
      "                                                                 \n",
      " conv2d_1 (Conv2D)           (None, 72, 72, 64)        18496     \n",
      "                                                                 \n",
      " max_pooling2d_1 (MaxPooling  (None, 36, 36, 64)       0         \n",
      " 2D)                                                             \n",
      "                                                                 \n",
      " conv2d_2 (Conv2D)           (None, 34, 34, 128)       73856     \n",
      "                                                                 \n",
      " max_pooling2d_2 (MaxPooling  (None, 17, 17, 128)      0         \n",
      " 2D)                                                             \n",
      "                                                                 \n",
      " conv2d_3 (Conv2D)           (None, 15, 15, 128)       147584    \n",
      "                                                                 \n",
      " max_pooling2d_3 (MaxPooling  (None, 7, 7, 128)        0         \n",
      " 2D)                                                             \n",
      "                                                                 \n",
      " flatten (Flatten)           (None, 6272)              0         \n",
      "                                                                 \n",
      " dense (Dense)               (None, 512)               3211776   \n",
      "                                                                 \n",
      " dense_1 (Dense)             (None, 1)                 513       \n",
      "                                                                 \n",
      "=================================================================\n",
      "Total params: 3,453,121\n",
      "Trainable params: 3,453,121\n",
      "Non-trainable params: 0\n",
      "_________________________________________________________________\n"
     ]
    }
   ],
   "source": [
    "model.summary()"
   ]
  },
  {
   "cell_type": "code",
   "execution_count": 9,
   "id": "237cc89f-f804-4c9c-a63d-65e8e1318b90",
   "metadata": {},
   "outputs": [
    {
     "name": "stderr",
     "output_type": "stream",
     "text": [
      "/Users/akarshitsingh/Desktop/Anaconda/anaconda3/lib/python3.9/site-packages/keras/optimizers/optimizer_v2/rmsprop.py:140: UserWarning: The `lr` argument is deprecated, use `learning_rate` instead.\n",
      "  super().__init__(name, **kwargs)\n"
     ]
    }
   ],
   "source": [
    "from tensorflow.keras import optimizers\n",
    "model.compile(loss = 'binary_crossentropy', optimizer = optimizers.RMSprop(lr = 1e-4), metrics = ['acc'])"
   ]
  },
  {
   "cell_type": "code",
   "execution_count": 10,
   "id": "b393ae68-a507-4743-9191-e7e682e45266",
   "metadata": {},
   "outputs": [
    {
     "name": "stdout",
     "output_type": "stream",
     "text": [
      "Epoch 1/40\n",
      "100/100 [==============================] - 38s 374ms/step - loss: 0.6882 - acc: 0.5445 - val_loss: 0.6753 - val_acc: 0.5450\n",
      "Epoch 2/40\n",
      "100/100 [==============================] - 38s 382ms/step - loss: 0.6612 - acc: 0.6090 - val_loss: 0.6774 - val_acc: 0.5380\n",
      "Epoch 3/40\n",
      "100/100 [==============================] - 38s 385ms/step - loss: 0.6096 - acc: 0.6685 - val_loss: 0.6135 - val_acc: 0.6590\n",
      "Epoch 4/40\n",
      "100/100 [==============================] - 39s 388ms/step - loss: 0.5702 - acc: 0.7095 - val_loss: 0.6076 - val_acc: 0.6490\n",
      "Epoch 5/40\n",
      "100/100 [==============================] - 39s 388ms/step - loss: 0.5357 - acc: 0.7225 - val_loss: 0.5912 - val_acc: 0.6690\n",
      "Epoch 6/40\n",
      "100/100 [==============================] - 39s 389ms/step - loss: 0.4988 - acc: 0.7490 - val_loss: 0.5729 - val_acc: 0.6870\n",
      "Epoch 7/40\n",
      "100/100 [==============================] - 40s 398ms/step - loss: 0.4691 - acc: 0.7770 - val_loss: 0.5746 - val_acc: 0.7010\n",
      "Epoch 8/40\n",
      "100/100 [==============================] - 48s 479ms/step - loss: 0.4438 - acc: 0.7990 - val_loss: 0.5735 - val_acc: 0.6970\n",
      "Epoch 9/40\n",
      "100/100 [==============================] - 42s 419ms/step - loss: 0.4143 - acc: 0.8085 - val_loss: 0.5457 - val_acc: 0.7030\n",
      "Epoch 10/40\n",
      "100/100 [==============================] - 42s 419ms/step - loss: 0.3817 - acc: 0.8360 - val_loss: 0.5871 - val_acc: 0.6990\n",
      "Epoch 11/40\n",
      "100/100 [==============================] - 43s 429ms/step - loss: 0.3562 - acc: 0.8440 - val_loss: 0.5832 - val_acc: 0.7150\n",
      "Epoch 12/40\n",
      "100/100 [==============================] - 43s 432ms/step - loss: 0.3269 - acc: 0.8630 - val_loss: 0.6380 - val_acc: 0.7080\n",
      "Epoch 13/40\n",
      "100/100 [==============================] - 44s 440ms/step - loss: 0.3063 - acc: 0.8720 - val_loss: 0.6130 - val_acc: 0.7100\n",
      "Epoch 14/40\n",
      "100/100 [==============================] - 44s 444ms/step - loss: 0.2873 - acc: 0.8775 - val_loss: 0.5998 - val_acc: 0.7150\n",
      "Epoch 15/40\n",
      "100/100 [==============================] - 44s 444ms/step - loss: 0.2583 - acc: 0.8940 - val_loss: 0.6254 - val_acc: 0.7250\n",
      "Epoch 16/40\n",
      "100/100 [==============================] - 44s 441ms/step - loss: 0.2317 - acc: 0.9045 - val_loss: 0.6363 - val_acc: 0.7250\n",
      "Epoch 17/40\n",
      "100/100 [==============================] - 44s 438ms/step - loss: 0.2050 - acc: 0.9255 - val_loss: 0.6445 - val_acc: 0.7280\n",
      "Epoch 18/40\n",
      "100/100 [==============================] - 44s 441ms/step - loss: 0.1826 - acc: 0.9345 - val_loss: 0.7137 - val_acc: 0.7080\n",
      "Epoch 19/40\n",
      "100/100 [==============================] - 67s 675ms/step - loss: 0.1589 - acc: 0.9415 - val_loss: 0.8424 - val_acc: 0.7170\n",
      "Epoch 20/40\n",
      "100/100 [==============================] - 34s 336ms/step - loss: 0.1479 - acc: 0.9510 - val_loss: 0.8732 - val_acc: 0.6890\n",
      "Epoch 21/40\n",
      "100/100 [==============================] - 36s 360ms/step - loss: 0.1212 - acc: 0.9610 - val_loss: 0.8515 - val_acc: 0.7170\n",
      "Epoch 22/40\n",
      "100/100 [==============================] - 37s 373ms/step - loss: 0.1086 - acc: 0.9655 - val_loss: 0.7633 - val_acc: 0.7260\n",
      "Epoch 23/40\n",
      "100/100 [==============================] - 38s 379ms/step - loss: 0.0901 - acc: 0.9720 - val_loss: 0.8603 - val_acc: 0.7190\n",
      "Epoch 24/40\n",
      "100/100 [==============================] - 39s 387ms/step - loss: 0.0772 - acc: 0.9785 - val_loss: 0.8892 - val_acc: 0.7190\n",
      "Epoch 25/40\n",
      "100/100 [==============================] - 41s 413ms/step - loss: 0.0666 - acc: 0.9825 - val_loss: 0.9958 - val_acc: 0.7100\n",
      "Epoch 26/40\n",
      "100/100 [==============================] - 44s 440ms/step - loss: 0.0596 - acc: 0.9860 - val_loss: 0.9994 - val_acc: 0.7260\n",
      "Epoch 27/40\n",
      "100/100 [==============================] - 45s 453ms/step - loss: 0.0466 - acc: 0.9860 - val_loss: 1.1683 - val_acc: 0.7010\n",
      "Epoch 28/40\n",
      "100/100 [==============================] - 112s 1s/step - loss: 0.0395 - acc: 0.9885 - val_loss: 1.0999 - val_acc: 0.7080\n",
      "Epoch 29/40\n",
      "100/100 [==============================] - 33s 330ms/step - loss: 0.0349 - acc: 0.9920 - val_loss: 1.2240 - val_acc: 0.7060\n",
      "Epoch 30/40\n",
      "100/100 [==============================] - 36s 356ms/step - loss: 0.0337 - acc: 0.9920 - val_loss: 1.1665 - val_acc: 0.7100\n",
      "Epoch 31/40\n",
      "100/100 [==============================] - 37s 370ms/step - loss: 0.0253 - acc: 0.9925 - val_loss: 1.2282 - val_acc: 0.7180\n",
      "Epoch 32/40\n",
      "100/100 [==============================] - 37s 374ms/step - loss: 0.0283 - acc: 0.9910 - val_loss: 1.2113 - val_acc: 0.7140\n",
      "Epoch 33/40\n",
      "100/100 [==============================] - 39s 388ms/step - loss: 0.0148 - acc: 0.9970 - val_loss: 1.3365 - val_acc: 0.7070\n",
      "Epoch 34/40\n",
      "100/100 [==============================] - 39s 390ms/step - loss: 0.0211 - acc: 0.9920 - val_loss: 1.3287 - val_acc: 0.7230\n",
      "Epoch 35/40\n",
      "100/100 [==============================] - 42s 423ms/step - loss: 0.0185 - acc: 0.9945 - val_loss: 1.3601 - val_acc: 0.7040\n",
      "Epoch 36/40\n",
      "100/100 [==============================] - 44s 438ms/step - loss: 0.0128 - acc: 0.9955 - val_loss: 1.4192 - val_acc: 0.7210\n",
      "Epoch 37/40\n",
      "100/100 [==============================] - 45s 453ms/step - loss: 0.0149 - acc: 0.9950 - val_loss: 1.5292 - val_acc: 0.7150\n",
      "Epoch 38/40\n",
      "100/100 [==============================] - 47s 470ms/step - loss: 0.0140 - acc: 0.9960 - val_loss: 1.5059 - val_acc: 0.7070\n",
      "Epoch 39/40\n",
      "100/100 [==============================] - 46s 463ms/step - loss: 0.0206 - acc: 0.9935 - val_loss: 1.4080 - val_acc: 0.7210\n",
      "Epoch 40/40\n",
      "100/100 [==============================] - 45s 449ms/step - loss: 0.0099 - acc: 0.9970 - val_loss: 1.5084 - val_acc: 0.7150\n"
     ]
    }
   ],
   "source": [
    "history = model.fit(train_generator,\n",
    "                             steps_per_epoch = 100, \n",
    "                             epochs= 40,\n",
    "                             validation_data = validation_generator,\n",
    "                             validation_steps = 50)\n"
   ]
  },
  {
   "cell_type": "code",
   "execution_count": 11,
   "id": "af89d2ac-f33d-42c9-b065-2d19e47047f6",
   "metadata": {},
   "outputs": [
    {
     "name": "stdout",
     "output_type": "stream",
     "text": [
      "Found 1000 images belonging to 2 classes.\n"
     ]
    }
   ],
   "source": [
    "test_generator = test_datagen.flow_from_directory(test_dir,\n",
    "                                                   target_size = (150, 150),\n",
    "                                                   batch_size = 20,\n",
    "                                                   class_mode = 'binary')\n"
   ]
  },
  {
   "cell_type": "code",
   "execution_count": 12,
   "id": "74f60f83-30d9-4ef9-90ff-bb79320a5110",
   "metadata": {},
   "outputs": [
    {
     "name": "stdout",
     "output_type": "stream",
     "text": [
      "50/50 [==============================] - 7s 130ms/step - loss: 1.4747 - acc: 0.7120\n"
     ]
    },
    {
     "data": {
      "text/plain": [
       "[1.4747467041015625, 0.7120000123977661]"
      ]
     },
     "execution_count": 12,
     "metadata": {},
     "output_type": "execute_result"
    }
   ],
   "source": [
    "model.evaluate(test_generator, steps = 50)"
   ]
  },
  {
   "cell_type": "code",
   "execution_count": 13,
   "id": "897c6807-6043-4f8f-aa3f-a92ff7bb93fb",
   "metadata": {},
   "outputs": [
    {
     "data": {
      "image/png": "[encoded data removed]",
      "text/plain": [
       "<Figure size 800x500 with 1 Axes>"
      ]
     },
     "metadata": {},
     "output_type": "display_data"
    }
   ],
   "source": [
    "pd.DataFrame(history.history).plot(figsize = (8, 5))\n",
    "plt.grid(True)\n",
    "plt.gca().set_ylim(0,1)\n",
    "plt.show()"
   ]
  },
  {
   "cell_type": "code",
   "execution_count": 14,
   "id": "606fb84d-6088-4c8f-a619-01c995692f5f",
   "metadata": {},
   "outputs": [],
   "source": [
    "model.save(\"model.h5\")"
   ]
  },
  {
   "cell_type": "markdown",
   "id": "db4466c9-dab6-45d3-a670-3829282494f8",
   "metadata": {},
   "source": [
    "from tensorflow.keras import backend as K\n",
    "K.clear_session()\n",
    "del model"
   ]
  },
  {
   "cell_type": "markdown",
   "id": "e31ba41a-85eb-4b8b-babc-0423dec653ca",
   "metadata": {},
   "source": [
    "Data Augmentation, \n",
    "Data Preprocessing"
   ]
  },
  {
   "cell_type": "code",
   "execution_count": 15,
   "id": "db783459-bb43-4ab2-9410-c62bd2b1170a",
   "metadata": {},
   "outputs": [
    {
     "name": "stdout",
     "output_type": "stream",
     "text": [
      "Found 2000 images belonging to 2 classes.\n",
      "Found 1000 images belonging to 2 classes.\n"
     ]
    }
   ],
   "source": [
    "train_datagen = ImageDataGenerator(rescale = 1./255,\n",
    "                                  rotation_range = 40,\n",
    "                                  width_shift_range = 0.2,\n",
    "                                  height_shift_range = 0.2,\n",
    "                                  shear_range = 0.2,\n",
    "                                  zoom_range = 0.2,\n",
    "                                  horizontal_flip = True)\n",
    "\n",
    "test_datagen = ImageDataGenerator(rescale = 1./255)\n",
    "\n",
    "\n",
    "train_generator = train_datagen.flow_from_directory(train_dir,\n",
    "                                                   target_size = (150, 150),\n",
    "                                                   batch_size = 32,\n",
    "                                                   class_mode = 'binary')\n",
    "\n",
    "validation_generator = test_datagen.flow_from_directory(validation_dir,\n",
    "                                                       target_size = (150, 150),\n",
    "                                                       batch_size = 32,\n",
    "                                                       class_mode = 'binary')"
   ]
  },
  {
   "cell_type": "markdown",
   "id": "628c2a1b-4e32-467b-b70f-ea385b558f1b",
   "metadata": {},
   "source": [
    "Training & Result"
   ]
  },
  {
   "cell_type": "code",
   "execution_count": 16,
   "id": "828fff86-9631-4e70-b6d4-a785a793a6f5",
   "metadata": {},
   "outputs": [],
   "source": [
    "model = models.Sequential()\n",
    "model.add(layers.Conv2D(32, (3,3), activation = 'relu', input_shape = (150, 150, 3)))\n",
    "model.add(layers.MaxPooling2D((2, 2)))\n",
    "model.add(layers.Conv2D(64, (3,3), activation = 'relu', input_shape = (150, 150, 3)))\n",
    "model.add(layers.MaxPooling2D((2, 2)))\n",
    "model.add(layers.Conv2D(128, (3,3), activation = 'relu', input_shape = (150, 150, 3)))\n",
    "model.add(layers.MaxPooling2D((2, 2)))\n",
    "model.add(layers.Conv2D(128, (3,3), activation = 'relu', input_shape = (150, 150, 3)))\n",
    "model.add(layers.MaxPooling2D((2, 2)))\n",
    "model.add(layers.Flatten())\n",
    "model.add(layers.Dropout(0.5))\n",
    "model.add(layers.Dense(512, activation = \"relu\"))\n",
    "model.add(layers.Dense(1, activation = \"sigmoid\"))"
   ]
  },
  {
   "cell_type": "code",
   "execution_count": 17,
   "id": "e55d358b-80f8-4d99-8dff-be24c1f18da1",
   "metadata": {},
   "outputs": [
    {
     "name": "stdout",
     "output_type": "stream",
     "text": [
      "Model: \"sequential_1\"\n",
      "_________________________________________________________________\n",
      " Layer (type)                Output Shape              Param #   \n",
      "=================================================================\n",
      " conv2d_4 (Conv2D)           (None, 148, 148, 32)      896       \n",
      "                                                                 \n",
      " max_pooling2d_4 (MaxPooling  (None, 74, 74, 32)       0         \n",
      " 2D)                                                             \n",
      "                                                                 \n",
      " conv2d_5 (Conv2D)           (None, 72, 72, 64)        18496     \n",
      "                                                                 \n",
      " max_pooling2d_5 (MaxPooling  (None, 36, 36, 64)       0         \n",
      " 2D)                                                             \n",
      "                                                                 \n",
      " conv2d_6 (Conv2D)           (None, 34, 34, 128)       73856     \n",
      "                                                                 \n",
      " max_pooling2d_6 (MaxPooling  (None, 17, 17, 128)      0         \n",
      " 2D)                                                             \n",
      "                                                                 \n",
      " conv2d_7 (Conv2D)           (None, 15, 15, 128)       147584    \n",
      "                                                                 \n",
      " max_pooling2d_7 (MaxPooling  (None, 7, 7, 128)        0         \n",
      " 2D)                                                             \n",
      "                                                                 \n",
      " flatten_1 (Flatten)         (None, 6272)              0         \n",
      "                                                                 \n",
      " dropout (Dropout)           (None, 6272)              0         \n",
      "                                                                 \n",
      " dense_2 (Dense)             (None, 512)               3211776   \n",
      "                                                                 \n",
      " dense_3 (Dense)             (None, 1)                 513       \n",
      "                                                                 \n",
      "=================================================================\n",
      "Total params: 3,453,121\n",
      "Trainable params: 3,453,121\n",
      "Non-trainable params: 0\n",
      "_________________________________________________________________\n"
     ]
    }
   ],
   "source": [
    "model.summary()"
   ]
  },
  {
   "cell_type": "code",
   "execution_count": 18,
   "id": "5d7978f8-f6e7-4489-9c00-23037921b6d2",
   "metadata": {},
   "outputs": [
    {
     "name": "stderr",
     "output_type": "stream",
     "text": [
      "/Users/akarshitsingh/Desktop/Anaconda/anaconda3/lib/python3.9/site-packages/keras/optimizers/optimizer_v2/rmsprop.py:140: UserWarning: The `lr` argument is deprecated, use `learning_rate` instead.\n",
      "  super().__init__(name, **kwargs)\n"
     ]
    }
   ],
   "source": [
    "from tensorflow.keras import optimizers\n",
    "model.compile(loss = 'binary_crossentropy', optimizer = optimizers.RMSprop(lr = 1e-4), metrics = ['acc'])"
   ]
  },
  {
   "cell_type": "code",
   "execution_count": 19,
   "id": "f2186c27-2f7c-431f-8c2b-2b46f964c4ea",
   "metadata": {},
   "outputs": [
    {
     "name": "stdout",
     "output_type": "stream",
     "text": [
      "Epoch 1/100\n",
      "62/62 [==============================] - 49s 786ms/step - loss: 0.6921 - acc: 0.5229 - val_loss: 0.6812 - val_acc: 0.5544\n",
      "Epoch 2/100\n",
      "62/62 [==============================] - 47s 764ms/step - loss: 0.6859 - acc: 0.5452 - val_loss: 0.6931 - val_acc: 0.5010\n",
      "Epoch 3/100\n",
      "62/62 [==============================] - 58s 930ms/step - loss: 0.6701 - acc: 0.5640 - val_loss: 0.6661 - val_acc: 0.5605\n",
      "Epoch 4/100\n",
      "62/62 [==============================] - 48s 774ms/step - loss: 0.6644 - acc: 0.5747 - val_loss: 0.6646 - val_acc: 0.5907\n",
      "Epoch 5/100\n",
      "62/62 [==============================] - 47s 756ms/step - loss: 0.6535 - acc: 0.6087 - val_loss: 0.6320 - val_acc: 0.6431\n",
      "Epoch 6/100\n",
      "62/62 [==============================] - 47s 752ms/step - loss: 0.6455 - acc: 0.6194 - val_loss: 0.6264 - val_acc: 0.6532\n",
      "Epoch 7/100\n",
      "62/62 [==============================] - 46s 737ms/step - loss: 0.6300 - acc: 0.6402 - val_loss: 0.6664 - val_acc: 0.5988\n",
      "Epoch 8/100\n",
      "62/62 [==============================] - 46s 734ms/step - loss: 0.6196 - acc: 0.6467 - val_loss: 0.5986 - val_acc: 0.6603\n",
      "Epoch 9/100\n",
      "62/62 [==============================] - 45s 731ms/step - loss: 0.6114 - acc: 0.6677 - val_loss: 0.6081 - val_acc: 0.6502\n",
      "Epoch 10/100\n",
      "62/62 [==============================] - 413s 7s/step - loss: 0.6041 - acc: 0.6643 - val_loss: 0.5829 - val_acc: 0.6966\n",
      "Epoch 11/100\n",
      "62/62 [==============================] - 30s 489ms/step - loss: 0.5908 - acc: 0.6850 - val_loss: 0.5777 - val_acc: 0.6915\n",
      "Epoch 12/100\n",
      "62/62 [==============================] - 33s 532ms/step - loss: 0.5961 - acc: 0.6799 - val_loss: 0.6724 - val_acc: 0.6512\n",
      "Epoch 13/100\n",
      "62/62 [==============================] - 35s 562ms/step - loss: 0.5933 - acc: 0.6834 - val_loss: 0.5522 - val_acc: 0.7167\n",
      "Epoch 14/100\n",
      "62/62 [==============================] - 36s 579ms/step - loss: 0.5740 - acc: 0.6936 - val_loss: 0.5659 - val_acc: 0.6845\n",
      "Epoch 15/100\n",
      "62/62 [==============================] - 37s 596ms/step - loss: 0.5688 - acc: 0.7073 - val_loss: 0.5906 - val_acc: 0.6583\n",
      "Epoch 16/100\n",
      "62/62 [==============================] - 38s 605ms/step - loss: 0.5685 - acc: 0.7088 - val_loss: 0.5627 - val_acc: 0.6935\n",
      "Epoch 17/100\n",
      "62/62 [==============================] - 38s 614ms/step - loss: 0.5668 - acc: 0.7012 - val_loss: 0.5374 - val_acc: 0.7137\n",
      "Epoch 18/100\n",
      "62/62 [==============================] - 38s 618ms/step - loss: 0.5589 - acc: 0.7144 - val_loss: 0.5885 - val_acc: 0.6976\n",
      "Epoch 19/100\n",
      "62/62 [==============================] - 40s 646ms/step - loss: 0.5586 - acc: 0.7038 - val_loss: 0.5403 - val_acc: 0.7218\n",
      "Epoch 20/100\n",
      "62/62 [==============================] - 48s 771ms/step - loss: 0.5512 - acc: 0.7144 - val_loss: 0.5451 - val_acc: 0.7167\n",
      "Epoch 21/100\n",
      "62/62 [==============================] - 44s 710ms/step - loss: 0.5577 - acc: 0.7154 - val_loss: 0.5281 - val_acc: 0.7298\n",
      "Epoch 22/100\n",
      "62/62 [==============================] - 39s 624ms/step - loss: 0.5343 - acc: 0.7190 - val_loss: 0.5290 - val_acc: 0.7308\n",
      "Epoch 23/100\n",
      "62/62 [==============================] - 39s 626ms/step - loss: 0.5589 - acc: 0.7093 - val_loss: 0.6010 - val_acc: 0.6855\n",
      "Epoch 24/100\n",
      "62/62 [==============================] - 39s 631ms/step - loss: 0.5403 - acc: 0.7332 - val_loss: 0.5699 - val_acc: 0.6996\n",
      "Epoch 25/100\n",
      "62/62 [==============================] - 39s 631ms/step - loss: 0.5397 - acc: 0.7180 - val_loss: 0.6017 - val_acc: 0.7067\n",
      "Epoch 26/100\n",
      "62/62 [==============================] - 39s 635ms/step - loss: 0.5363 - acc: 0.7348 - val_loss: 0.5075 - val_acc: 0.7520\n",
      "Epoch 27/100\n",
      "62/62 [==============================] - 40s 649ms/step - loss: 0.5291 - acc: 0.7353 - val_loss: 0.5853 - val_acc: 0.7036\n",
      "Epoch 28/100\n",
      "62/62 [==============================] - 41s 658ms/step - loss: 0.5316 - acc: 0.7282 - val_loss: 0.6391 - val_acc: 0.6915\n",
      "Epoch 29/100\n",
      "62/62 [==============================] - 41s 667ms/step - loss: 0.5415 - acc: 0.7276 - val_loss: 0.6143 - val_acc: 0.6956\n",
      "Epoch 30/100\n",
      "62/62 [==============================] - 42s 670ms/step - loss: 0.5281 - acc: 0.7393 - val_loss: 0.4969 - val_acc: 0.7470\n",
      "Epoch 31/100\n",
      "62/62 [==============================] - 42s 672ms/step - loss: 0.5193 - acc: 0.7398 - val_loss: 0.5558 - val_acc: 0.7298\n",
      "Epoch 32/100\n",
      "62/62 [==============================] - 42s 672ms/step - loss: 0.5201 - acc: 0.7541 - val_loss: 0.5622 - val_acc: 0.7258\n",
      "Epoch 33/100\n",
      "62/62 [==============================] - 42s 681ms/step - loss: 0.5113 - acc: 0.7424 - val_loss: 0.4881 - val_acc: 0.7571\n",
      "Epoch 34/100\n",
      "62/62 [==============================] - 43s 690ms/step - loss: 0.5066 - acc: 0.7576 - val_loss: 0.5067 - val_acc: 0.7379\n",
      "Epoch 35/100\n",
      "62/62 [==============================] - 118s 2s/step - loss: 0.5049 - acc: 0.7515 - val_loss: 0.4752 - val_acc: 0.7712\n",
      "Epoch 36/100\n",
      "62/62 [==============================] - 35s 558ms/step - loss: 0.5074 - acc: 0.7475 - val_loss: 0.4816 - val_acc: 0.7601\n",
      "Epoch 37/100\n",
      "62/62 [==============================] - 37s 588ms/step - loss: 0.4997 - acc: 0.7541 - val_loss: 0.4816 - val_acc: 0.7631\n",
      "Epoch 38/100\n",
      "62/62 [==============================] - 38s 611ms/step - loss: 0.5115 - acc: 0.7403 - val_loss: 0.5699 - val_acc: 0.7177\n",
      "Epoch 39/100\n",
      "62/62 [==============================] - 38s 611ms/step - loss: 0.5078 - acc: 0.7530 - val_loss: 0.5023 - val_acc: 0.7530\n",
      "Epoch 40/100\n",
      "62/62 [==============================] - 38s 615ms/step - loss: 0.4931 - acc: 0.7520 - val_loss: 0.5288 - val_acc: 0.7349\n",
      "Epoch 41/100\n",
      "62/62 [==============================] - 39s 620ms/step - loss: 0.4909 - acc: 0.7566 - val_loss: 0.4900 - val_acc: 0.7460\n",
      "Epoch 42/100\n",
      "62/62 [==============================] - 39s 622ms/step - loss: 0.4995 - acc: 0.7561 - val_loss: 0.5052 - val_acc: 0.7540\n",
      "Epoch 43/100\n",
      "62/62 [==============================] - 40s 640ms/step - loss: 0.5019 - acc: 0.7505 - val_loss: 0.4983 - val_acc: 0.7560\n",
      "Epoch 44/100\n",
      "62/62 [==============================] - 1211s 20s/step - loss: 0.4973 - acc: 0.7475 - val_loss: 0.5201 - val_acc: 0.7319\n",
      "Epoch 45/100\n",
      "62/62 [==============================] - 526s 9s/step - loss: 0.4990 - acc: 0.7607 - val_loss: 0.4995 - val_acc: 0.7419\n",
      "Epoch 46/100\n",
      "62/62 [==============================] - 33s 529ms/step - loss: 0.4826 - acc: 0.7617 - val_loss: 0.4989 - val_acc: 0.7500\n",
      "Epoch 47/100\n",
      "62/62 [==============================] - 36s 575ms/step - loss: 0.4836 - acc: 0.7663 - val_loss: 0.4625 - val_acc: 0.7722\n",
      "Epoch 48/100\n",
      "62/62 [==============================] - 36s 582ms/step - loss: 0.4831 - acc: 0.7703 - val_loss: 0.5142 - val_acc: 0.7399\n",
      "Epoch 49/100\n",
      "62/62 [==============================] - 36s 574ms/step - loss: 0.4821 - acc: 0.7632 - val_loss: 0.4793 - val_acc: 0.7681\n",
      "Epoch 50/100\n",
      "62/62 [==============================] - 36s 586ms/step - loss: 0.4729 - acc: 0.7830 - val_loss: 0.5088 - val_acc: 0.7712\n",
      "Epoch 51/100\n",
      "62/62 [==============================] - 37s 590ms/step - loss: 0.4707 - acc: 0.7683 - val_loss: 0.4865 - val_acc: 0.7591\n",
      "Epoch 52/100\n",
      "62/62 [==============================] - 37s 597ms/step - loss: 0.4794 - acc: 0.7749 - val_loss: 0.5154 - val_acc: 0.7601\n",
      "Epoch 53/100\n",
      "62/62 [==============================] - 38s 610ms/step - loss: 0.4710 - acc: 0.7772 - val_loss: 0.4653 - val_acc: 0.7823\n",
      "Epoch 54/100\n",
      "62/62 [==============================] - 39s 622ms/step - loss: 0.4582 - acc: 0.7815 - val_loss: 0.4662 - val_acc: 0.7802\n",
      "Epoch 55/100\n",
      "62/62 [==============================] - 39s 627ms/step - loss: 0.4638 - acc: 0.7805 - val_loss: 0.4541 - val_acc: 0.7863\n",
      "Epoch 56/100\n",
      "62/62 [==============================] - 39s 629ms/step - loss: 0.4573 - acc: 0.7815 - val_loss: 0.5069 - val_acc: 0.7379\n",
      "Epoch 57/100\n",
      "62/62 [==============================] - 45s 721ms/step - loss: 0.4571 - acc: 0.7846 - val_loss: 0.4957 - val_acc: 0.7641\n",
      "Epoch 58/100\n",
      "62/62 [==============================] - 44s 705ms/step - loss: 0.4664 - acc: 0.7861 - val_loss: 0.4848 - val_acc: 0.7671\n",
      "Epoch 59/100\n",
      "62/62 [==============================] - 41s 656ms/step - loss: 0.4600 - acc: 0.7744 - val_loss: 0.4619 - val_acc: 0.7823\n",
      "Epoch 60/100\n",
      "62/62 [==============================] - 41s 660ms/step - loss: 0.4713 - acc: 0.7627 - val_loss: 0.4898 - val_acc: 0.7702\n",
      "Epoch 61/100\n",
      "62/62 [==============================] - 835s 14s/step - loss: 0.4662 - acc: 0.7876 - val_loss: 0.4687 - val_acc: 0.7631\n",
      "Epoch 62/100\n",
      "62/62 [==============================] - 31s 501ms/step - loss: 0.4727 - acc: 0.7683 - val_loss: 0.4633 - val_acc: 0.7853\n",
      "Epoch 63/100\n",
      "62/62 [==============================] - 34s 546ms/step - loss: 0.4570 - acc: 0.7805 - val_loss: 0.5204 - val_acc: 0.7510\n",
      "Epoch 64/100\n",
      "62/62 [==============================] - 35s 565ms/step - loss: 0.4364 - acc: 0.7942 - val_loss: 0.4608 - val_acc: 0.7792\n",
      "Epoch 65/100\n",
      "62/62 [==============================] - 36s 579ms/step - loss: 0.4462 - acc: 0.7851 - val_loss: 0.4836 - val_acc: 0.7823\n",
      "Epoch 66/100\n",
      "62/62 [==============================] - 37s 592ms/step - loss: 0.4483 - acc: 0.7907 - val_loss: 0.6045 - val_acc: 0.7137\n",
      "Epoch 67/100\n",
      "62/62 [==============================] - 37s 601ms/step - loss: 0.4463 - acc: 0.7876 - val_loss: 0.4568 - val_acc: 0.7752\n",
      "Epoch 68/100\n",
      "62/62 [==============================] - 38s 613ms/step - loss: 0.4538 - acc: 0.7764 - val_loss: 0.4687 - val_acc: 0.7802\n",
      "Epoch 69/100\n",
      "62/62 [==============================] - 38s 618ms/step - loss: 0.4510 - acc: 0.7861 - val_loss: 0.4510 - val_acc: 0.7994\n",
      "Epoch 70/100\n",
      "62/62 [==============================] - 39s 623ms/step - loss: 0.4473 - acc: 0.7825 - val_loss: 0.4421 - val_acc: 0.7883\n",
      "Epoch 71/100\n",
      "62/62 [==============================] - 39s 629ms/step - loss: 0.4418 - acc: 0.7835 - val_loss: 0.4565 - val_acc: 0.7782\n",
      "Epoch 72/100\n",
      "62/62 [==============================] - 39s 633ms/step - loss: 0.4500 - acc: 0.7810 - val_loss: 0.4425 - val_acc: 0.7994\n",
      "Epoch 73/100\n",
      "62/62 [==============================] - 41s 656ms/step - loss: 0.4318 - acc: 0.7988 - val_loss: 0.4502 - val_acc: 0.7883\n",
      "Epoch 74/100\n",
      "62/62 [==============================] - 41s 662ms/step - loss: 0.4333 - acc: 0.8034 - val_loss: 0.4308 - val_acc: 0.7964\n",
      "Epoch 75/100\n",
      "62/62 [==============================] - 43s 686ms/step - loss: 0.4456 - acc: 0.7942 - val_loss: 0.4655 - val_acc: 0.7883\n",
      "Epoch 76/100\n",
      "62/62 [==============================] - 46s 746ms/step - loss: 0.4350 - acc: 0.7907 - val_loss: 0.4458 - val_acc: 0.7944\n",
      "Epoch 77/100\n",
      "62/62 [==============================] - 48s 772ms/step - loss: 0.4305 - acc: 0.7942 - val_loss: 0.4425 - val_acc: 0.7933\n",
      "Epoch 78/100\n",
      "62/62 [==============================] - 48s 778ms/step - loss: 0.4233 - acc: 0.8034 - val_loss: 0.4706 - val_acc: 0.7823\n",
      "Epoch 79/100\n",
      "62/62 [==============================] - 49s 782ms/step - loss: 0.4238 - acc: 0.8044 - val_loss: 0.4696 - val_acc: 0.7762\n",
      "Epoch 80/100\n",
      "62/62 [==============================] - 49s 789ms/step - loss: 0.4267 - acc: 0.7973 - val_loss: 0.4382 - val_acc: 0.8014\n",
      "Epoch 81/100\n",
      "62/62 [==============================] - 50s 802ms/step - loss: 0.4323 - acc: 0.8049 - val_loss: 0.4637 - val_acc: 0.7722\n",
      "Epoch 82/100\n",
      "62/62 [==============================] - 50s 812ms/step - loss: 0.4326 - acc: 0.7907 - val_loss: 0.4797 - val_acc: 0.7681\n",
      "Epoch 83/100\n",
      "62/62 [==============================] - 53s 856ms/step - loss: 0.4267 - acc: 0.7962 - val_loss: 0.4647 - val_acc: 0.7984\n",
      "Epoch 84/100\n",
      "62/62 [==============================] - 56s 898ms/step - loss: 0.4308 - acc: 0.8039 - val_loss: 0.4490 - val_acc: 0.7974\n",
      "Epoch 85/100\n",
      "62/62 [==============================] - 58s 936ms/step - loss: 0.4296 - acc: 0.8023 - val_loss: 0.4290 - val_acc: 0.8004\n",
      "Epoch 86/100\n",
      "62/62 [==============================] - 56s 907ms/step - loss: 0.4120 - acc: 0.8044 - val_loss: 0.4240 - val_acc: 0.8004\n",
      "Epoch 87/100\n",
      "62/62 [==============================] - 56s 908ms/step - loss: 0.4092 - acc: 0.8145 - val_loss: 0.4482 - val_acc: 0.7883\n",
      "Epoch 88/100\n",
      "62/62 [==============================] - 57s 912ms/step - loss: 0.4193 - acc: 0.8034 - val_loss: 0.4609 - val_acc: 0.7933\n",
      "Epoch 89/100\n",
      "62/62 [==============================] - 57s 922ms/step - loss: 0.4037 - acc: 0.8120 - val_loss: 0.4811 - val_acc: 0.7681\n",
      "Epoch 90/100\n",
      "62/62 [==============================] - 60s 962ms/step - loss: 0.4055 - acc: 0.8171 - val_loss: 0.5789 - val_acc: 0.7661\n",
      "Epoch 91/100\n",
      "62/62 [==============================] - 62s 1s/step - loss: 0.4152 - acc: 0.8115 - val_loss: 0.4263 - val_acc: 0.8115\n",
      "Epoch 92/100\n",
      "62/62 [==============================] - 64s 1s/step - loss: 0.4006 - acc: 0.8105 - val_loss: 0.5685 - val_acc: 0.7651\n",
      "Epoch 93/100\n",
      "62/62 [==============================] - 66s 1s/step - loss: 0.4121 - acc: 0.8150 - val_loss: 0.4360 - val_acc: 0.7923\n",
      "Epoch 94/100\n",
      "62/62 [==============================] - 67s 1s/step - loss: 0.4179 - acc: 0.8003 - val_loss: 0.4334 - val_acc: 0.8014\n",
      "Epoch 95/100\n",
      "62/62 [==============================] - 977s 16s/step - loss: 0.4144 - acc: 0.8110 - val_loss: 0.4395 - val_acc: 0.8034\n",
      "Epoch 96/100\n",
      "62/62 [==============================] - 1035s 17s/step - loss: 0.4036 - acc: 0.8120 - val_loss: 0.4478 - val_acc: 0.8065\n",
      "Epoch 97/100\n",
      "62/62 [==============================] - 1031s 17s/step - loss: 0.3999 - acc: 0.8206 - val_loss: 0.4548 - val_acc: 0.8054\n",
      "Epoch 98/100\n",
      "62/62 [==============================] - 1022s 17s/step - loss: 0.3963 - acc: 0.8161 - val_loss: 0.4854 - val_acc: 0.7681\n",
      "Epoch 99/100\n",
      "62/62 [==============================] - 956s 16s/step - loss: 0.3932 - acc: 0.8277 - val_loss: 0.4134 - val_acc: 0.8024\n",
      "Epoch 100/100\n",
      "62/62 [==============================] - 1000s 16s/step - loss: 0.4163 - acc: 0.8115 - val_loss: 0.4368 - val_acc: 0.7833\n"
     ]
    }
   ],
   "source": [
    "history = model.fit(train_generator,\n",
    "                             steps_per_epoch = 62, \n",
    "                             epochs= 100,\n",
    "                             validation_data = validation_generator,\n",
    "                             validation_steps = 31)\n"
   ]
  },
  {
   "cell_type": "code",
   "execution_count": 20,
   "id": "f5a6bcff-d10e-4e95-b4ea-7f92aab07e71",
   "metadata": {},
   "outputs": [
    {
     "name": "stdout",
     "output_type": "stream",
     "text": [
      "Found 1000 images belonging to 2 classes.\n"
     ]
    }
   ],
   "source": [
    "test_generator = test_datagen.flow_from_directory(test_dir,\n",
    "                                                   target_size = (150, 150),\n",
    "                                                   batch_size = 20,\n",
    "                                                   class_mode = 'binary')\n"
   ]
  },
  {
   "cell_type": "code",
   "execution_count": 21,
   "id": "10ecbc2c-92d4-4663-8447-fd5764f969c7",
   "metadata": {},
   "outputs": [
    {
     "name": "stdout",
     "output_type": "stream",
     "text": [
      "50/50 [==============================] - 4s 82ms/step - loss: 0.4398 - acc: 0.7820\n"
     ]
    },
    {
     "data": {
      "text/plain": [
       "[0.4397725760936737, 0.7820000052452087]"
      ]
     },
     "execution_count": 21,
     "metadata": {},
     "output_type": "execute_result"
    }
   ],
   "source": [
    "model.evaluate(test_generator, steps = 50)"
   ]
  },
  {
   "cell_type": "code",
   "execution_count": 22,
   "id": "8d91dfe2-874c-424d-b251-9d81007df965",
   "metadata": {},
   "outputs": [],
   "source": [
    "model.save(\"project_cnn.h5\")"
   ]
  },
  {
   "cell_type": "code",
   "execution_count": 23,
   "id": "fc2a4320-4b94-4c2c-a379-eb694a136054",
   "metadata": {},
   "outputs": [
    {
     "data": {
      "image/png": "[encoded data removed]",
      "text/plain": [
       "<Figure size 800x500 with 1 Axes>"
      ]
     },
     "metadata": {},
     "output_type": "display_data"
    }
   ],
   "source": [
    "pd.DataFrame(history.history).plot(figsize = (8, 5))\n",
    "plt.grid(True)\n",
    "plt.gca().set_ylim(0,1)\n",
    "plt.show()"
   ]
  },
  {
   "cell_type": "code",
   "execution_count": 24,
   "id": "2bf914f8-1bc3-4907-8e72-5dca7025a28c",
   "metadata": {},
   "outputs": [],
   "source": [
    "from tensorflow.keras import backend as K\n",
    "\n",
    "K.clear_session()\n",
    "del model"
   ]
  },
  {
   "cell_type": "markdown",
   "id": "44acc1f1-aa11-4761-9b4c-3d82a0700b48",
   "metadata": {},
   "source": [
    "VGG16"
   ]
  },
  {
   "cell_type": "markdown",
   "id": "16a23932-5243-4e1e-9084-7ed8f88f612d",
   "metadata": {},
   "source": [
    "Data Preprocessing"
   ]
  },
  {
   "cell_type": "code",
   "execution_count": 26,
   "id": "629b168c-f133-4dbe-82dd-b850879764c2",
   "metadata": {},
   "outputs": [
    {
     "name": "stdout",
     "output_type": "stream",
     "text": [
      "Found 2000 images belonging to 2 classes.\n",
      "Found 1000 images belonging to 2 classes.\n"
     ]
    }
   ],
   "source": [
    "train_datagen = ImageDataGenerator(rescale = 1./255,\n",
    "                                  rotation_range = 40,\n",
    "                                  width_shift_range = 0.2,\n",
    "                                  height_shift_range = 0.2,\n",
    "                                  shear_range = 0.2,\n",
    "                                  zoom_range = 0.2,\n",
    "                                  horizontal_flip = True)\n",
    "\n",
    "test_datagen = ImageDataGenerator(rescale = 1./255)\n",
    "\n",
    "\n",
    "train_generator = train_datagen.flow_from_directory(train_dir,\n",
    "                                                   target_size = (150, 150),\n",
    "                                                   batch_size = 20,\n",
    "                                                   class_mode = 'binary')\n",
    "\n",
    "validation_generator = test_datagen.flow_from_directory(validation_dir,\n",
    "                                                       target_size = (150, 150),\n",
    "                                                       batch_size = 20,\n",
    "                                                       class_mode = 'binary')"
   ]
  },
  {
   "cell_type": "markdown",
   "id": "d61f0213-de7e-4451-935a-e002dd29631e",
   "metadata": {},
   "source": [
    "Training & Testing"
   ]
  },
  {
   "cell_type": "code",
   "execution_count": 27,
   "id": "ef1da9f6-3e52-4215-926e-0d4ee83d800d",
   "metadata": {},
   "outputs": [],
   "source": [
    "from tensorflow.keras.applications import VGG16\n",
    "conv_base=VGG16(weights=\"imagenet\",\n",
    "                       include_top=False,\n",
    "                       input_shape=(150,150,3))"
   ]
  },
  {
   "cell_type": "code",
   "execution_count": 28,
   "id": "e2ced71f-5de1-414d-bc9a-384bce844aba",
   "metadata": {},
   "outputs": [
    {
     "name": "stdout",
     "output_type": "stream",
     "text": [
      "Model: \"vgg16\"\n",
      "_________________________________________________________________\n",
      " Layer (type)                Output Shape              Param #   \n",
      "=================================================================\n",
      " input_1 (InputLayer)        [(None, 150, 150, 3)]     0         \n",
      "                                                                 \n",
      " block1_conv1 (Conv2D)       (None, 150, 150, 64)      1792      \n",
      "                                                                 \n",
      " block1_conv2 (Conv2D)       (None, 150, 150, 64)      36928     \n",
      "                                                                 \n",
      " block1_pool (MaxPooling2D)  (None, 75, 75, 64)        0         \n",
      "                                                                 \n",
      " block2_conv1 (Conv2D)       (None, 75, 75, 128)       73856     \n",
      "                                                                 \n",
      " block2_conv2 (Conv2D)       (None, 75, 75, 128)       147584    \n",
      "                                                                 \n",
      " block2_pool (MaxPooling2D)  (None, 37, 37, 128)       0         \n",
      "                                                                 \n",
      " block3_conv1 (Conv2D)       (None, 37, 37, 256)       295168    \n",
      "                                                                 \n",
      " block3_conv2 (Conv2D)       (None, 37, 37, 256)       590080    \n",
      "                                                                 \n",
      " block3_conv3 (Conv2D)       (None, 37, 37, 256)       590080    \n",
      "                                                                 \n",
      " block3_pool (MaxPooling2D)  (None, 18, 18, 256)       0         \n",
      "                                                                 \n",
      " block4_conv1 (Conv2D)       (None, 18, 18, 512)       1180160   \n",
      "                                                                 \n",
      " block4_conv2 (Conv2D)       (None, 18, 18, 512)       2359808   \n",
      "                                                                 \n",
      " block4_conv3 (Conv2D)       (None, 18, 18, 512)       2359808   \n",
      "                                                                 \n",
      " block4_pool (MaxPooling2D)  (None, 9, 9, 512)         0         \n",
      "                                                                 \n",
      " block5_conv1 (Conv2D)       (None, 9, 9, 512)         2359808   \n",
      "                                                                 \n",
      " block5_conv2 (Conv2D)       (None, 9, 9, 512)         2359808   \n",
      "                                                                 \n",
      " block5_conv3 (Conv2D)       (None, 9, 9, 512)         2359808   \n",
      "                                                                 \n",
      " block5_pool (MaxPooling2D)  (None, 4, 4, 512)         0         \n",
      "                                                                 \n",
      "=================================================================\n",
      "Total params: 14,714,688\n",
      "Trainable params: 14,714,688\n",
      "Non-trainable params: 0\n",
      "_________________________________________________________________\n"
     ]
    }
   ],
   "source": [
    "conv_base.summary()"
   ]
  },
  {
   "cell_type": "code",
   "execution_count": 29,
   "id": "001f1bf3-7336-4582-89b3-868467931235",
   "metadata": {},
   "outputs": [],
   "source": [
    "model = models.Sequential()\n",
    "model.add(conv_base)\n",
    "model.add(layers.Flatten())\n",
    "model.add(layers.Dense(256, activation='relu'))\n",
    "model.add(layers.Dense(1, activation='sigmoid'))"
   ]
  },
  {
   "cell_type": "code",
   "execution_count": 30,
   "id": "926b09bb-73a1-4d29-ad53-ab4dc47725c8",
   "metadata": {},
   "outputs": [
    {
     "name": "stdout",
     "output_type": "stream",
     "text": [
      "Model: \"sequential\"\n",
      "_________________________________________________________________\n",
      " Layer (type)                Output Shape              Param #   \n",
      "=================================================================\n",
      " vgg16 (Functional)          (None, 4, 4, 512)         14714688  \n",
      "                                                                 \n",
      " flatten (Flatten)           (None, 8192)              0         \n",
      "                                                                 \n",
      " dense (Dense)               (None, 256)               2097408   \n",
      "                                                                 \n",
      " dense_1 (Dense)             (None, 1)                 257       \n",
      "                                                                 \n",
      "=================================================================\n",
      "Total params: 16,812,353\n",
      "Trainable params: 16,812,353\n",
      "Non-trainable params: 0\n",
      "_________________________________________________________________\n"
     ]
    }
   ],
   "source": [
    "model.summary()"
   ]
  },
  {
   "cell_type": "code",
   "execution_count": 31,
   "id": "8bcd36f5-85cf-442c-a8bc-462a8486452d",
   "metadata": {},
   "outputs": [
    {
     "name": "stderr",
     "output_type": "stream",
     "text": [
      "/Users/akarshitsingh/Desktop/Anaconda/anaconda3/lib/python3.9/site-packages/keras/optimizers/optimizer_v2/rmsprop.py:140: UserWarning: The `lr` argument is deprecated, use `learning_rate` instead.\n",
      "  super().__init__(name, **kwargs)\n"
     ]
    }
   ],
   "source": [
    "model.compile(loss = 'binary_crossentropy', optimizer = keras.optimizers.RMSprop(lr = 2e-5), metrics = ['acc'])"
   ]
  },
  {
   "cell_type": "code",
   "execution_count": 32,
   "id": "f667d1e1-a153-4887-b7e8-8b819de2ac1f",
   "metadata": {},
   "outputs": [],
   "source": [
    "checkpoint_cb = keras.callbacks.ModelCheckpoint(\"Cat_Dog.h5\", save_best_only = True)"
   ]
  },
  {
   "cell_type": "code",
   "execution_count": 33,
   "id": "4b24df82-e9ce-408d-bc3c-fb0a75451809",
   "metadata": {},
   "outputs": [
    {
     "name": "stdout",
     "output_type": "stream",
     "text": [
      "Epoch 1/30\n",
      "100/100 [==============================] - 3177s 32s/step - loss: 0.4558 - acc: 0.7650 - val_loss: 0.2185 - val_acc: 0.9040\n",
      "Epoch 2/30\n",
      "100/100 [==============================] - 2625s 26s/step - loss: 0.2776 - acc: 0.8850 - val_loss: 0.1325 - val_acc: 0.9460\n",
      "Epoch 3/30\n",
      "100/100 [==============================] - 827s 8s/step - loss: 0.2204 - acc: 0.9120 - val_loss: 0.1721 - val_acc: 0.9240\n",
      "Epoch 4/30\n",
      "100/100 [==============================] - 895s 9s/step - loss: 0.1648 - acc: 0.9380 - val_loss: 0.1173 - val_acc: 0.9440\n",
      "Epoch 5/30\n",
      "100/100 [==============================] - 975s 10s/step - loss: 0.1424 - acc: 0.9460 - val_loss: 0.0951 - val_acc: 0.9620\n",
      "Epoch 6/30\n",
      "100/100 [==============================] - 1121s 11s/step - loss: 0.1282 - acc: 0.9550 - val_loss: 0.1056 - val_acc: 0.9570\n",
      "Epoch 7/30\n",
      "100/100 [==============================] - 1095s 11s/step - loss: 0.1299 - acc: 0.9505 - val_loss: 0.0844 - val_acc: 0.9720\n",
      "Epoch 8/30\n",
      "100/100 [==============================] - 890s 9s/step - loss: 0.1050 - acc: 0.9565 - val_loss: 0.0850 - val_acc: 0.9600\n",
      "Epoch 9/30\n",
      "100/100 [==============================] - 13280s 134s/step - loss: 0.1201 - acc: 0.9525 - val_loss: 0.0906 - val_acc: 0.9640\n",
      "Epoch 10/30\n",
      "100/100 [==============================] - 8774s 89s/step - loss: 0.0938 - acc: 0.9675 - val_loss: 0.4209 - val_acc: 0.8710\n",
      "Epoch 11/30\n",
      "100/100 [==============================] - 815s 8s/step - loss: 0.0875 - acc: 0.9665 - val_loss: 0.2188 - val_acc: 0.9370\n",
      "Epoch 12/30\n",
      "100/100 [==============================] - 868s 9s/step - loss: 0.0667 - acc: 0.9760 - val_loss: 0.0748 - val_acc: 0.9760\n",
      "Epoch 13/30\n",
      "100/100 [==============================] - 968s 10s/step - loss: 0.0838 - acc: 0.9655 - val_loss: 0.1433 - val_acc: 0.9490\n",
      "Epoch 14/30\n",
      "100/100 [==============================] - 1066s 11s/step - loss: 0.0604 - acc: 0.9770 - val_loss: 0.0757 - val_acc: 0.9710\n",
      "Epoch 15/30\n",
      "100/100 [==============================] - 1160s 12s/step - loss: 0.0690 - acc: 0.9785 - val_loss: 0.0880 - val_acc: 0.9670\n",
      "Epoch 16/30\n",
      "100/100 [==============================] - 11685s 118s/step - loss: 0.0679 - acc: 0.9750 - val_loss: 0.0948 - val_acc: 0.9660\n",
      "Epoch 17/30\n",
      "100/100 [==============================] - 791s 8s/step - loss: 0.0535 - acc: 0.9855 - val_loss: 0.0840 - val_acc: 0.9760\n",
      "Epoch 18/30\n",
      "100/100 [==============================] - 824s 8s/step - loss: 0.0462 - acc: 0.9830 - val_loss: 0.7194 - val_acc: 0.8760\n",
      "Epoch 19/30\n",
      "100/100 [==============================] - 852s 9s/step - loss: 0.0532 - acc: 0.9825 - val_loss: 0.1330 - val_acc: 0.9620\n",
      "Epoch 20/30\n",
      "100/100 [==============================] - 5153s 52s/step - loss: 0.0479 - acc: 0.9845 - val_loss: 0.1254 - val_acc: 0.9660\n",
      "Epoch 21/30\n",
      "100/100 [==============================] - 26102s 264s/step - loss: 0.0402 - acc: 0.9855 - val_loss: 0.2966 - val_acc: 0.9220\n",
      "Epoch 22/30\n",
      "100/100 [==============================] - 1348s 14s/step - loss: 0.0426 - acc: 0.9860 - val_loss: 0.0979 - val_acc: 0.9760\n",
      "Epoch 23/30\n",
      "100/100 [==============================] - 930s 9s/step - loss: 0.0246 - acc: 0.9920 - val_loss: 0.2767 - val_acc: 0.9460\n",
      "Epoch 24/30\n",
      "100/100 [==============================] - 1002s 10s/step - loss: 0.0493 - acc: 0.9830 - val_loss: 0.1257 - val_acc: 0.9690\n",
      "Epoch 25/30\n",
      "100/100 [==============================] - 1008s 10s/step - loss: 0.0438 - acc: 0.9860 - val_loss: 0.0953 - val_acc: 0.9730\n",
      "Epoch 26/30\n",
      "100/100 [==============================] - 28433s 287s/step - loss: 0.0385 - acc: 0.9880 - val_loss: 0.1269 - val_acc: 0.9610\n",
      "Epoch 27/30\n",
      "100/100 [==============================] - 19176s 194s/step - loss: 0.0372 - acc: 0.9865 - val_loss: 0.1388 - val_acc: 0.9720\n",
      "Epoch 28/30\n",
      "100/100 [==============================] - 826s 8s/step - loss: 0.0325 - acc: 0.9865 - val_loss: 0.1123 - val_acc: 0.9770\n",
      "Epoch 29/30\n",
      "100/100 [==============================] - 12591s 127s/step - loss: 0.0407 - acc: 0.9860 - val_loss: 0.1009 - val_acc: 0.9760\n",
      "Epoch 30/30\n",
      "100/100 [==============================] - 55056s 546s/step - loss: 0.0483 - acc: 0.9830 - val_loss: 0.1352 - val_acc: 0.9600\n"
     ]
    }
   ],
   "source": [
    "history = model.fit(train_generator,\n",
    "                             steps_per_epoch = 100,\n",
    "                             epochs = 30,\n",
    "                             validation_data = validation_generator,\n",
    "                             validation_steps = 50,\n",
    "                             callbacks = [checkpoint_cb])"
   ]
  },
  {
   "cell_type": "code",
   "execution_count": 34,
   "id": "7e36fb5a-6066-45b7-bfe2-6c15dc4f97cc",
   "metadata": {},
   "outputs": [
    {
     "data": {
      "image/png": "[encoded data removed]",
      "text/plain": [
       "<Figure size 800x500 with 1 Axes>"
      ]
     },
     "metadata": {},
     "output_type": "display_data"
    }
   ],
   "source": [
    "pd.DataFrame(history.history).plot(figsize = (8, 5))\n",
    "plt.grid(True)\n",
    "plt.gca().set_ylim(0,1)\n",
    "plt.show()"
   ]
  },
  {
   "cell_type": "code",
   "execution_count": null,
   "id": "ace1db42-9c5c-4e75-97a8-4924be29587f",
   "metadata": {},
   "outputs": [],
   "source": []
  }
 ],
 "metadata": {
  "kernelspec": {
   "display_name": "Python 3 (ipykernel)",
   "language": "python",
   "name": "python3"
  },
  "language_info": {
   "codemirror_mode": {
    "name": "ipython",
    "version": 3
   },
   "file_extension": ".py",
   "mimetype": "text/x-python",
   "name": "python",
   "nbconvert_exporter": "python",
   "pygments_lexer": "ipython3",
   "version": "3.9.18"
  }
 },
 "nbformat": 4,
 "nbformat_minor": 5
}
