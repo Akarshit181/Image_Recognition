{
 "cells": [
  {
   "cell_type": "markdown",
   "id": "6e36efff-c64c-4c46-9d8e-68e17a08da31",
   "metadata": {},
   "source": [
    "Loading the Model"
   ]
  },
  {
   "cell_type": "code",
   "execution_count": 1,
   "id": "a63bbd87-aadb-44fc-8959-06c9d04f6921",
   "metadata": {},
   "outputs": [
    {
     "name": "stderr",
     "output_type": "stream",
     "text": [
      "2024-09-02 14:57:53.868042: I tensorflow/core/platform/cpu_feature_guard.cc:193] This TensorFlow binary is optimized with oneAPI Deep Neural Network Library (oneDNN) to use the following CPU instructions in performance-critical operations:  SSE4.1 SSE4.2\n",
      "To enable them in other operations, rebuild TensorFlow with the appropriate compiler flags.\n"
     ]
    }
   ],
   "source": [
    "from tensorflow import keras"
   ]
  },
  {
   "cell_type": "code",
   "execution_count": 2,
   "id": "0107795b-bb2b-4ef5-97af-749a41f07e7f",
   "metadata": {},
   "outputs": [
    {
     "name": "stderr",
     "output_type": "stream",
     "text": [
      "2024-09-02 14:57:56.199159: I tensorflow/core/platform/cpu_feature_guard.cc:193] This TensorFlow binary is optimized with oneAPI Deep Neural Network Library (oneDNN) to use the following CPU instructions in performance-critical operations:  SSE4.1 SSE4.2\n",
      "To enable them in other operations, rebuild TensorFlow with the appropriate compiler flags.\n"
     ]
    }
   ],
   "source": [
    "model = keras.models.load_model(\"Cat_Dog.h5\")"
   ]
  },
  {
   "cell_type": "markdown",
   "id": "d9f5b35d-33c5-407b-8916-7df42caaa491",
   "metadata": {},
   "source": [
    "Importing the test data"
   ]
  },
  {
   "cell_type": "code",
   "execution_count": 3,
   "id": "a4ff2a06-69da-415c-b64c-4d7faeef2cb3",
   "metadata": {},
   "outputs": [],
   "source": [
    "test_dir = \"/Users/akarshitsingh/Deep Learning/Data set, Presentation and Python Notebook for Image recognition project module/cats_and_dogs/test\""
   ]
  },
  {
   "cell_type": "code",
   "execution_count": 4,
   "id": "b4860bec-476a-4aad-aa18-39c19ad1dd43",
   "metadata": {},
   "outputs": [
    {
     "name": "stdout",
     "output_type": "stream",
     "text": [
      "Found 1000 images belonging to 2 classes.\n"
     ]
    }
   ],
   "source": [
    "from tensorflow.keras.preprocessing.image import ImageDataGenerator\n",
    "test_datagen = ImageDataGenerator(rescale = 1./255)\n",
    "test_generator = test_datagen.flow_from_directory(test_dir,\n",
    "                                                   target_size = (150, 150),\n",
    "                                                   batch_size = 20,\n",
    "                                                   class_mode = 'binary')"
   ]
  },
  {
   "cell_type": "markdown",
   "id": "fc1b9c66-8130-48a8-8bbe-4adf292a6c1a",
   "metadata": {},
   "source": [
    "Evaluating the modelprint(ev)"
   ]
  },
  {
   "cell_type": "code",
   "execution_count": 5,
   "id": "c6860796-4995-4b81-8157-7a6614314769",
   "metadata": {},
   "outputs": [
    {
     "name": "stdout",
     "output_type": "stream",
     "text": [
      "50/50 [==============================] - 102s 2s/step - loss: 0.0971 - acc: 0.9710\n"
     ]
    }
   ],
   "source": [
    "ev = model.evaluate(test_generator, steps = 50)"
   ]
  },
  {
   "cell_type": "code",
   "execution_count": 6,
   "id": "15b081e3-e808-4d97-bed1-a10922aaadab",
   "metadata": {},
   "outputs": [
    {
     "name": "stdout",
     "output_type": "stream",
     "text": [
      "[0.097110316157341, 0.9710000157356262]\n"
     ]
    }
   ],
   "source": [
    "print(ev)"
   ]
  }
 ],
 "metadata": {
  "kernelspec": {
   "display_name": "Python 3 (ipykernel)",
   "language": "python",
   "name": "python3"
  },
  "language_info": {
   "codemirror_mode": {
    "name": "ipython",
    "version": 3
   },
   "file_extension": ".py",
   "mimetype": "text/x-python",
   "name": "python",
   "nbconvert_exporter": "python",
   "pygments_lexer": "ipython3",
   "version": "3.9.18"
  }
 },
 "nbformat": 4,
 "nbformat_minor": 5
}
